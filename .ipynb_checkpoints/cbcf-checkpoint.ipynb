{
 "cells": [
  {
   "cell_type": "code",
   "execution_count": 1,
   "id": "f482c873-1b3a-497c-9cb2-0f98c02b3b5e",
   "metadata": {},
   "outputs": [],
   "source": [
    "#Content-based recommendation System\n",
    "import numpy as np \n",
    "import pandas as pd \n",
    "import matplotlib.pyplot as plt\n",
    "from sklearn.feature_extraction.text import TfidfTransformer\n",
    "from model import cbcf"
   ]
  },
  {
   "cell_type": "code",
   "execution_count": 2,
   "id": "e45f1a7e-3da9-42c2-b8f2-9ed1597b0643",
   "metadata": {},
   "outputs": [
    {
     "data": {
      "text/html": [
       "<div>\n",
       "<style scoped>\n",
       "    .dataframe tbody tr th:only-of-type {\n",
       "        vertical-align: middle;\n",
       "    }\n",
       "\n",
       "    .dataframe tbody tr th {\n",
       "        vertical-align: top;\n",
       "    }\n",
       "\n",
       "    .dataframe thead th {\n",
       "        text-align: right;\n",
       "    }\n",
       "</style>\n",
       "<table border=\"1\" class=\"dataframe\">\n",
       "  <thead>\n",
       "    <tr style=\"text-align: right;\">\n",
       "      <th></th>\n",
       "      <th>user_id</th>\n",
       "      <th>age</th>\n",
       "      <th>sex</th>\n",
       "      <th>occupation</th>\n",
       "      <th>zip_code</th>\n",
       "    </tr>\n",
       "  </thead>\n",
       "  <tbody>\n",
       "    <tr>\n",
       "      <th>0</th>\n",
       "      <td>1</td>\n",
       "      <td>24</td>\n",
       "      <td>M</td>\n",
       "      <td>technician</td>\n",
       "      <td>85711</td>\n",
       "    </tr>\n",
       "    <tr>\n",
       "      <th>1</th>\n",
       "      <td>2</td>\n",
       "      <td>53</td>\n",
       "      <td>F</td>\n",
       "      <td>other</td>\n",
       "      <td>94043</td>\n",
       "    </tr>\n",
       "    <tr>\n",
       "      <th>2</th>\n",
       "      <td>3</td>\n",
       "      <td>23</td>\n",
       "      <td>M</td>\n",
       "      <td>writer</td>\n",
       "      <td>32067</td>\n",
       "    </tr>\n",
       "    <tr>\n",
       "      <th>3</th>\n",
       "      <td>4</td>\n",
       "      <td>24</td>\n",
       "      <td>M</td>\n",
       "      <td>technician</td>\n",
       "      <td>43537</td>\n",
       "    </tr>\n",
       "    <tr>\n",
       "      <th>4</th>\n",
       "      <td>5</td>\n",
       "      <td>33</td>\n",
       "      <td>F</td>\n",
       "      <td>other</td>\n",
       "      <td>15213</td>\n",
       "    </tr>\n",
       "  </tbody>\n",
       "</table>\n",
       "</div>"
      ],
      "text/plain": [
       "   user_id  age sex  occupation zip_code\n",
       "0        1   24   M  technician    85711\n",
       "1        2   53   F       other    94043\n",
       "2        3   23   M      writer    32067\n",
       "3        4   24   M  technician    43537\n",
       "4        5   33   F       other    15213"
      ]
     },
     "execution_count": 2,
     "metadata": {},
     "output_type": "execute_result"
    }
   ],
   "source": [
    "path_user = 'data_movies/u.user'\n",
    "u_cols = ['user_id', 'age', 'sex', 'occupation', 'zip_code']\n",
    "users = pd.read_csv(path_user, sep = '|', names = u_cols)\n",
    "users.head(5)"
   ]
  },
  {
   "cell_type": "code",
   "execution_count": 3,
   "id": "1081d756-3ba8-4db2-ad52-6ec5426b6833",
   "metadata": {},
   "outputs": [
    {
     "name": "stdout",
     "output_type": "stream",
     "text": [
      "Number of users: 943\n"
     ]
    }
   ],
   "source": [
    "print('Number of users:', users.shape[0])"
   ]
  },
  {
   "cell_type": "code",
   "execution_count": 4,
   "id": "a62e7a8f-745a-4b09-a233-ee6d1b8e2cb2",
   "metadata": {},
   "outputs": [],
   "source": [
    "r_cols = ['user_id', 'movie_id', 'rating', 'unix_timestamp']\n",
    "ratings_base = pd.read_csv('data_movies/ua.base', sep = '\\t', names = r_cols)\n",
    "ratings_test = pd.read_csv('data_movies/ua.test', sep = '\\t', names = r_cols)\n",
    "rate_train = ratings_base.values\n",
    "rate_test = ratings_test.values"
   ]
  },
  {
   "cell_type": "code",
   "execution_count": 5,
   "id": "91598cdb-c14b-4fa3-b994-0590cb952e3a",
   "metadata": {},
   "outputs": [
    {
     "name": "stdout",
     "output_type": "stream",
     "text": [
      "Number of rate base: 90570\n",
      "Number of rate test: 9430\n"
     ]
    }
   ],
   "source": [
    "print('Number of rate base:', rate_train.shape[0])\n",
    "print('Number of rate test:', rate_test.shape[0])"
   ]
  },
  {
   "cell_type": "code",
   "execution_count": 6,
   "id": "ad3b14ea-9c27-4feb-9234-4f6d6b4ca598",
   "metadata": {},
   "outputs": [],
   "source": [
    "i_cols = ['movie_id', 'movie_title', 'release_date', 'video release date', 'IMBd url', \n",
    "         'inknow', 'action', 'adventure', 'animation', 'children\\'s', 'comedy', \n",
    "         'crime', 'documentary', 'drama', 'fantasy','film-noir', 'horror', 'musical',\n",
    "         'mystery', 'sci-fi', 'thriller', 'war', 'western']\n",
    "items = pd.read_csv('data_movies/u.item', sep = '|', names = i_cols, encoding = 'latin1')"
   ]
  },
  {
   "cell_type": "code",
   "execution_count": 7,
   "id": "a1f2d74c-34d3-4ee6-900f-acd48134de8d",
   "metadata": {},
   "outputs": [
    {
     "name": "stdout",
     "output_type": "stream",
     "text": [
      "Number of items: 1682\n"
     ]
    }
   ],
   "source": [
    "n_items = items.shape[0]\n",
    "print('Number of items:', n_items)"
   ]
  },
  {
   "cell_type": "code",
   "execution_count": 8,
   "id": "c06270bf-8147-403e-8fe3-28f92fb90058",
   "metadata": {},
   "outputs": [],
   "source": [
    "X_train_counts = items.values[:, -19:]"
   ]
  },
  {
   "cell_type": "code",
   "execution_count": 9,
   "id": "28c160ac-54c2-43f4-a8a2-fb2b66ed5913",
   "metadata": {},
   "outputs": [
    {
     "data": {
      "text/plain": [
       "array([[0.        , 0.        , 0.        , ..., 0.        , 0.        ,\n",
       "        0.        ],\n",
       "       [0.        , 0.53676706, 0.65097024, ..., 0.53676706, 0.        ,\n",
       "        0.        ],\n",
       "       [0.        , 0.        , 0.        , ..., 1.        , 0.        ,\n",
       "        0.        ],\n",
       "       ...,\n",
       "       [0.        , 0.        , 0.        , ..., 0.        , 0.        ,\n",
       "        0.        ],\n",
       "       [0.        , 0.        , 0.        , ..., 0.        , 0.        ,\n",
       "        0.        ],\n",
       "       [0.        , 0.        , 0.        , ..., 0.        , 0.        ,\n",
       "        0.        ]], shape=(1682, 19))"
      ]
     },
     "execution_count": 9,
     "metadata": {},
     "output_type": "execute_result"
    }
   ],
   "source": [
    "transformer = TfidfTransformer(smooth_idf = True, norm = 'l2')\n",
    "X = transformer.fit_transform(X_train_counts.tolist()).toarray()\n",
    "X"
   ]
  },
  {
   "cell_type": "code",
   "execution_count": 10,
   "id": "36b8e260-47d5-4de4-9698-8426b45770cb",
   "metadata": {},
   "outputs": [],
   "source": [
    "from sklearn.linear_model import Ridge\n",
    "from sklearn import linear_model\n",
    "\n",
    "def get_items_rated_by_user(rate_matrix, user_id):\n",
    "    '''\n",
    "    item indices rated by user_id \n",
    "    need to 1 to user_id since in the rate_matrix, id start from 1\n",
    "    (in python, id start from 0)\n",
    "    return (item_ids, scores)\n",
    "    '''\n",
    "    y = rate_matrix[:, 0]\n",
    "    ids = np.where(y == user_id + 1)[0]\n",
    "    item_ids = rate_matrix[ids, 1] - 1\n",
    "    scores = rate_matrix[ids, 2]\n",
    "    return item_ids, scores\n",
    "\n",
    "def find_weights_and_bias(X, n_users, rate_train, n):\n",
    "    d = X.shape[0]\n",
    "    W = np.zeros((d, n_users))\n",
    "    b = np.zeros(n_users)\n",
    "    for n in range(n_users):\n",
    "        ids, scores = get_items_rated_by_user(rate_train, n)\n",
    "        model = Ridge(alpha = 0.01, fit_intercept = True)\n",
    "        Xhat = X[ids, :]\n",
    "        model.fit(Xhat, scores)\n",
    "        W[:, n] = np.pad(model.coef_, (0, W.shape[0] - model.coef_.shape[0]), mode='constant')\n",
    "        b[n] = model.intercept_\n",
    "    return W, b\n",
    "    "
   ]
  },
  {
   "cell_type": "code",
   "execution_count": 22,
   "id": "1aa56040-695a-40b2-9a1d-469334d4cd83",
   "metadata": {},
   "outputs": [
    {
     "name": "stdout",
     "output_type": "stream",
     "text": [
      "Rated movies ids : [ 37 109 110 226 424 557 722 724 731 739]\n",
      "True ratings: [3 3 4 3 4 3 5 3 3 4]\n",
      "Predicted ratings: [3.19 2.82 4.37 1.52 2.61 3.57 4.19 5.69 3.85 3.64]\n"
     ]
    }
   ],
   "source": [
    "n = 10\n",
    "W, b = find_weights_and_bias(X, users.shape[0], rate_train, n)\n",
    "Yhat = X.T.dot(W) + b\n",
    "np.set_printoptions(precision = 2)\n",
    "ids, scores = get_items_rated_by_user(rate_test, n)\n",
    "print('Rated movies ids :', ids )\n",
    "print('True ratings:', scores)\n",
    "print('Predicted ratings:', Yhat[n, ids])"
   ]
  },
  {
   "cell_type": "code",
   "execution_count": 23,
   "id": "f6687852-0949-49df-aad0-f7e771035d4f",
   "metadata": {},
   "outputs": [],
   "source": [
    "def evaluate(Yhat, rates, W, b, n_users, n):\n",
    "    se = cnt = 0\n",
    "    for n in range(n_users):\n",
    "        ids, score_truth = get_items_rated_by_user(rates, n)\n",
    "        scores_pred = Yhat[n, ids]\n",
    "        e = score_truth - scores_pred\n",
    "        se += (e*e).sum(axis = 0)\n",
    "        cnt += e.size\n",
    "        return np.sqrt(se/cnt)"
   ]
  },
  {
   "cell_type": "code",
   "execution_count": 24,
   "id": "31533a17-2800-467a-afdd-1348b97a5870",
   "metadata": {},
   "outputs": [
    {
     "name": "stdout",
     "output_type": "stream",
     "text": [
      "RMSE for training: 2.06\n",
      "RMSE for test: 1.60\n"
     ]
    }
   ],
   "source": [
    "print('RMSE for training: %.2f' %evaluate(Yhat, rate_train, W, b, users.shape[0], n))\n",
    "print('RMSE for test: %.2f' %evaluate(Yhat, rate_test, W, b, users.shape[0], n))"
   ]
  }
 ],
 "metadata": {
  "kernelspec": {
   "display_name": "Python 3 (ipykernel)",
   "language": "python",
   "name": "python3"
  },
  "language_info": {
   "codemirror_mode": {
    "name": "ipython",
    "version": 3
   },
   "file_extension": ".py",
   "mimetype": "text/x-python",
   "name": "python",
   "nbconvert_exporter": "python",
   "pygments_lexer": "ipython3",
   "version": "3.10.12"
  }
 },
 "nbformat": 4,
 "nbformat_minor": 5
}
