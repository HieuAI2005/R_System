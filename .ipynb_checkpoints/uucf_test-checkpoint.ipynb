{
 "cells": [
  {
   "cell_type": "code",
   "execution_count": 1,
   "id": "5ca34953-f1e3-4acb-9d0c-af4151ef3119",
   "metadata": {},
   "outputs": [],
   "source": [
    "#User - user CF \n",
    "from __future__ import print_function\n",
    "import pandas as pd\n",
    "import numpy as np\n",
    "from scipy import sparse\n",
    "from sklearn.metrics.pairwise import cosine_similarity\n",
    "from model import uucf as uu"
   ]
  },
  {
   "cell_type": "code",
   "execution_count": 2,
   "id": "959538dd-d593-4f1a-895e-8a824608217c",
   "metadata": {},
   "outputs": [],
   "source": [
    "r_cols = ['user_id', 'movie_id', 'rating', 'unix_timestamp']\n",
    "ratings_base = pd.read_csv('data_movies/ua.base', sep = '\\t', names = r_cols)\n",
    "ratings_test = pd.read_csv('data_movies/ua.test', sep = '\\t', names = r_cols)\n",
    "rate_train = ratings_base.values \n",
    "rate_test = ratings_test.values\n",
    "rate_train[:, :2] -= 1\n",
    "rate_test[:, :2] -= 1"
   ]
  },
  {
   "cell_type": "code",
   "execution_count": 3,
   "id": "367a71af-a18d-4845-afdd-71c90f9a2fcf",
   "metadata": {},
   "outputs": [
    {
     "name": "stdout",
     "output_type": "stream",
     "text": [
      "User-user CF, RMSE = 1.0250787326171877\n"
     ]
    }
   ],
   "source": [
    "rs = uu.uuCF(rate_train, k = 40)\n",
    "rs.fit()\n",
    "n_tests = rate_test.shape[0]\n",
    "se = 0\n",
    "for n in range(n_tests):\n",
    "    pred = rs.predict(rate_test[n, 0], rate_test[n, 1])\n",
    "    se += (pred - rate_test[n, 2])**2 \n",
    "\n",
    "rmse = np.sqrt(se/n_tests)\n",
    "print('User-user CF, RMSE =', rmse)"
   ]
  },
  {
   "cell_type": "code",
   "execution_count": 4,
   "id": "9723efd4-48c2-4be6-b295-2110e8a36625",
   "metadata": {},
   "outputs": [
    {
     "name": "stdout",
     "output_type": "stream",
     "text": [
      "Item-item CF, RMSE = 1.4473684210526587\n"
     ]
    }
   ],
   "source": [
    "rate_train = rate_train[:, [1, 0, 2]]\n",
    "rate_test = rate_test[:, [1, 0, 2]]\n",
    "\n",
    "rs = uu.uuCF(rate_train, k = 40)\n",
    "rs.fit()\n",
    "n_tests = rate_test.shape[0]\n",
    "se = 0 \n",
    "for i in range(n_tests):\n",
    "    pred = rs.predict(rate_test[n, 0], rate_test[n, 1])\n",
    "    se += (pred - rate_test[n, 2]) ** 2\n",
    "RMSE = np.sqrt(se/n_tests)\n",
    "print('Item-item CF, RMSE =', RMSE)"
   ]
  }
 ],
 "metadata": {
  "kernelspec": {
   "display_name": "Python 3 (ipykernel)",
   "language": "python",
   "name": "python3"
  },
  "language_info": {
   "codemirror_mode": {
    "name": "ipython",
    "version": 3
   },
   "file_extension": ".py",
   "mimetype": "text/x-python",
   "name": "python",
   "nbconvert_exporter": "python",
   "pygments_lexer": "ipython3",
   "version": "3.10.12"
  }
 },
 "nbformat": 4,
 "nbformat_minor": 5
}
