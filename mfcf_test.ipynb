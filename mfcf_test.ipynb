{
 "cells": [
  {
   "cell_type": "code",
   "execution_count": 1,
   "id": "b0c69431-e62b-4240-ae10-b06c4da79fc4",
   "metadata": {},
   "outputs": [],
   "source": [
    "#Maxtrix factorization CF\n",
    "from __future__ import print_function\n",
    "import numpy as np\n",
    "import pandas as pd\n",
    "from sklearn.metrics.pairwise import cosine_similarity\n",
    "from scipy import sparse\n",
    "from model import mfcf "
   ]
  },
  {
   "cell_type": "code",
   "execution_count": 2,
   "id": "6950e6d6-cb8c-4962-bb3b-3811d303043f",
   "metadata": {},
   "outputs": [
    {
     "name": "stdout",
     "output_type": "stream",
     "text": [
      "iter: 5, loss: 0.42795068404328446, RMSE train: 0.9249796594629817\n",
      "iter: 10, loss: 0.4175154015194912, RMSE train: 0.9136246885788288\n",
      "iter: 15, loss: 0.41569632792791544, RMSE train: 0.9116130130781157\n",
      "iter: 20, loss: 0.41513523595210716, RMSE train: 0.9109852042336303\n",
      "iter: 25, loss: 0.4148744048855349, RMSE train: 0.9106930590509716\n",
      "iter: 30, loss: 0.41471893896668394, RMSE train: 0.9105195934808819\n",
      "Matrix factorization CF, RMSE = 0.9619\n"
     ]
    }
   ],
   "source": [
    "r_cols = ['user_id', 'movie_id', 'rating', 'unix_timestamp']\n",
    "ratings_base = pd.read_csv('data_movies/ua.base', sep ='\\t', names = r_cols)\n",
    "ratings_test = pd.read_csv('data_movies/ua.test', sep ='\\t', names = r_cols)\n",
    "\n",
    "rate_train = ratings_base.values\n",
    "rate_test = ratings_test.values \n",
    "\n",
    "rate_train[:, :2] -= 1\n",
    "rate_test[:, :2] -= 1\n",
    "\n",
    "rs = mfcf.MF(rate_train, K = 50, lam = 0.01, print_every = 5, lr = 50, max_iter = 30)\n",
    "rs.fit()\n",
    "rmse = rs.evaluate_RMSE(rate_test)\n",
    "print('Matrix factorization CF, RMSE = %.4f' % rmse)"
   ]
  },
  {
   "cell_type": "code",
   "execution_count": 3,
   "id": "0fdb3616-f210-4759-9ee0-0fb326a556ad",
   "metadata": {},
   "outputs": [
    {
     "data": {
      "text/plain": [
       "np.float64(4.173778072587378)"
      ]
     },
     "execution_count": 3,
     "metadata": {},
     "output_type": "execute_result"
    }
   ],
   "source": [
    "rs.predict(9, 10)"
   ]
  }
 ],
 "metadata": {
  "kernelspec": {
   "display_name": "Python 3 (ipykernel)",
   "language": "python",
   "name": "python3"
  },
  "language_info": {
   "codemirror_mode": {
    "name": "ipython",
    "version": 3
   },
   "file_extension": ".py",
   "mimetype": "text/x-python",
   "name": "python",
   "nbconvert_exporter": "python",
   "pygments_lexer": "ipython3",
   "version": "3.10.12"
  }
 },
 "nbformat": 4,
 "nbformat_minor": 5
}
